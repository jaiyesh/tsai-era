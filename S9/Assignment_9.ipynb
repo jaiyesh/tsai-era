{
  "cells": [
    {
      "cell_type": "code",
      "execution_count": 1,
      "metadata": {
        "id": "8kH16rnZ7wt_"
      },
      "outputs": [],
      "source": [
        "from torchvision import datasets, transforms\n",
        "import numpy as np\n",
        "import torch\n",
        "import torch.nn as nn\n",
        "import torch.nn.functional as F\n",
        "import torch.optim as optim"
      ]
    },
    {
      "cell_type": "code",
      "execution_count": null,
      "metadata": {
        "id": "HG_cYndHoTAa"
      },
      "outputs": [],
      "source": [
        "import sys\n",
        "from pathlib import Path"
      ]
    },
    {
      "cell_type": "code",
      "execution_count": null,
      "metadata": {
        "id": "-QRPEz7ToTAa"
      },
      "outputs": [],
      "source": [
        "import os\n"
      ]
    },
    {
      "cell_type": "code",
      "execution_count": null,
      "metadata": {
        "id": "kzd6WvsloTAa"
      },
      "outputs": [],
      "source": [
        "FILE = Path(os.getcwd()).resolve()\n",
        "ROOT = FILE.parents[0]  # project root directory\n",
        "if str(ROOT) not in sys.path:\n",
        "    sys.path.append(str(ROOT))  # add ROOT to PATH"
      ]
    },
    {
      "cell_type": "code",
      "execution_count": 2,
      "metadata": {
        "colab": {
          "base_uri": "https://localhost:8080/"
        },
        "id": "f-TzTj_CoTAa",
        "outputId": "45b6947b-210f-47ba-94ec-313edb5590af"
      },
      "outputs": [
        {
          "output_type": "stream",
          "name": "stdout",
          "text": [
            "Downloading https://www.cs.toronto.edu/~kriz/cifar-10-python.tar.gz to ./data/cifar-10-python.tar.gz\n"
          ]
        },
        {
          "output_type": "stream",
          "name": "stderr",
          "text": [
            "100%|██████████| 170498071/170498071 [00:05<00:00, 29254713.75it/s]\n"
          ]
        },
        {
          "output_type": "stream",
          "name": "stdout",
          "text": [
            "Extracting ./data/cifar-10-python.tar.gz to ./data\n",
            "(1600000, 32, 3)\n",
            "[0.49139968 0.48215841 0.44653091] [0.24703223 0.24348513 0.26158784]\n",
            "Files already downloaded and verified\n",
            "Files already downloaded and verified\n",
            "cuda available? True\n"
          ]
        },
        {
          "output_type": "stream",
          "name": "stderr",
          "text": [
            "/usr/local/lib/python3.10/dist-packages/torch/utils/data/dataloader.py:560: UserWarning: This DataLoader will create 4 worker processes in total. Our suggested max number of worker in current system is 2, which is smaller than what this DataLoader is going to create. Please be aware that excessive worker creation might get DataLoader running slow or even freeze, lower the worker number to avoid potential slowness/freeze if necessary.\n",
            "  warnings.warn(_create_warning_msg(\n"
          ]
        }
      ],
      "source": [
        "from dataloader import train_loader, test_loader\n",
        "from model import Net, dropout_value\n",
        "from utils import train, test, train_losses, test_losses, train_acc, test_acc, show_images\n",
        "#from wrong_classified import get_incorrect_preds, plot_incorrect_preds"
      ]
    },
    {
      "cell_type": "markdown",
      "metadata": {
        "id": "M3-vp8X9LCWo"
      },
      "source": [
        "# Model Params\n"
      ]
    },
    {
      "cell_type": "code",
      "execution_count": 3,
      "metadata": {
        "colab": {
          "base_uri": "https://localhost:8080/"
        },
        "id": "AGlreftToTAd",
        "outputId": "d6e316fc-a3df-42d1-ab4d-04ead426ff1b"
      },
      "outputs": [
        {
          "output_type": "stream",
          "name": "stdout",
          "text": [
            "cuda\n",
            "----------------------------------------------------------------\n",
            "        Layer (type)               Output Shape         Param #\n",
            "================================================================\n",
            "            Conv2d-1           [-1, 16, 32, 32]             432\n",
            "              ReLU-2           [-1, 16, 32, 32]               0\n",
            "       BatchNorm2d-3           [-1, 16, 32, 32]              32\n",
            "           Dropout-4           [-1, 16, 32, 32]               0\n",
            "            Conv2d-5           [-1, 16, 32, 32]           2,304\n",
            "              ReLU-6           [-1, 16, 32, 32]               0\n",
            "       BatchNorm2d-7           [-1, 16, 32, 32]              32\n",
            "           Dropout-8           [-1, 16, 32, 32]               0\n",
            "            Conv2d-9           [-1, 48, 32, 32]             480\n",
            "           Conv2d-10           [-1, 16, 32, 32]             784\n",
            "depthwise_separable_conv-11           [-1, 16, 32, 32]               0\n",
            "             ReLU-12           [-1, 16, 32, 32]               0\n",
            "      BatchNorm2d-13           [-1, 16, 32, 32]              32\n",
            "          Dropout-14           [-1, 16, 32, 32]               0\n",
            "           Conv2d-15           [-1, 32, 32, 32]           4,608\n",
            "             ReLU-16           [-1, 32, 32, 32]               0\n",
            "      BatchNorm2d-17           [-1, 32, 32, 32]              64\n",
            "          Dropout-18           [-1, 32, 32, 32]               0\n",
            "           Conv2d-19           [-1, 32, 32, 32]           9,216\n",
            "             ReLU-20           [-1, 32, 32, 32]               0\n",
            "      BatchNorm2d-21           [-1, 32, 32, 32]              64\n",
            "          Dropout-22           [-1, 32, 32, 32]               0\n",
            "           Conv2d-23           [-1, 32, 28, 28]           9,216\n",
            "             ReLU-24           [-1, 32, 28, 28]               0\n",
            "      BatchNorm2d-25           [-1, 32, 28, 28]              64\n",
            "          Dropout-26           [-1, 32, 28, 28]               0\n",
            "           Conv2d-27           [-1, 64, 28, 28]          18,432\n",
            "             ReLU-28           [-1, 64, 28, 28]               0\n",
            "      BatchNorm2d-29           [-1, 64, 28, 28]             128\n",
            "          Dropout-30           [-1, 64, 28, 28]               0\n",
            "           Conv2d-31           [-1, 64, 28, 28]          36,864\n",
            "             ReLU-32           [-1, 64, 28, 28]               0\n",
            "      BatchNorm2d-33           [-1, 64, 28, 28]             128\n",
            "          Dropout-34           [-1, 64, 28, 28]               0\n",
            "           Conv2d-35           [-1, 64, 24, 24]          36,864\n",
            "             ReLU-36           [-1, 64, 24, 24]               0\n",
            "      BatchNorm2d-37           [-1, 64, 24, 24]             128\n",
            "          Dropout-38           [-1, 64, 24, 24]               0\n",
            "           Conv2d-39           [-1, 64, 24, 24]          36,864\n",
            "             ReLU-40           [-1, 64, 24, 24]               0\n",
            "      BatchNorm2d-41           [-1, 64, 24, 24]             128\n",
            "          Dropout-42           [-1, 64, 24, 24]               0\n",
            "           Conv2d-43           [-1, 48, 24, 24]          27,648\n",
            "             ReLU-44           [-1, 48, 24, 24]               0\n",
            "      BatchNorm2d-45           [-1, 48, 24, 24]              96\n",
            "          Dropout-46           [-1, 48, 24, 24]               0\n",
            "           Conv2d-47           [-1, 32, 24, 24]          13,824\n",
            "             ReLU-48           [-1, 32, 24, 24]               0\n",
            "      BatchNorm2d-49           [-1, 32, 24, 24]              64\n",
            "          Dropout-50           [-1, 32, 24, 24]               0\n",
            "AdaptiveAvgPool2d-51             [-1, 32, 1, 1]               0\n",
            "           Conv2d-52             [-1, 16, 1, 1]             512\n",
            "             ReLU-53             [-1, 16, 1, 1]               0\n",
            "      BatchNorm2d-54             [-1, 16, 1, 1]              32\n",
            "          Dropout-55             [-1, 16, 1, 1]               0\n",
            "           Conv2d-56             [-1, 10, 1, 1]             160\n",
            "================================================================\n",
            "Total params: 199,200\n",
            "Trainable params: 199,200\n",
            "Non-trainable params: 0\n",
            "----------------------------------------------------------------\n",
            "Input size (MB): 0.01\n",
            "Forward/backward pass size (MB): 11.49\n",
            "Params size (MB): 0.76\n",
            "Estimated Total Size (MB): 12.26\n",
            "----------------------------------------------------------------\n"
          ]
        }
      ],
      "source": [
        "from torchsummary import summary\n",
        "use_cuda = torch.cuda.is_available()\n",
        "device = torch.device(\"cuda\" if use_cuda else \"cpu\")\n",
        "print(device)\n",
        "model = Net().to(device)\n",
        "summary(model, input_size=(3, 32, 32))"
      ]
    },
    {
      "cell_type": "markdown",
      "metadata": {
        "id": "7l9lNaWYKuik"
      },
      "source": [
        "## Sample Images\n"
      ]
    },
    {
      "cell_type": "code",
      "execution_count": 4,
      "metadata": {
        "colab": {
          "base_uri": "https://localhost:8080/",
          "height": 590
        },
        "id": "S3uYPkyL91qq",
        "outputId": "51a1b372-bdd0-4654-ea7e-aa4d6782f22f"
      },
      "outputs": [
        {
          "output_type": "stream",
          "name": "stderr",
          "text": [
            "WARNING:matplotlib.image:Clipping input data to the valid range for imshow with RGB data ([0..1] for floats or [0..255] for integers).\n",
            "WARNING:matplotlib.image:Clipping input data to the valid range for imshow with RGB data ([0..1] for floats or [0..255] for integers).\n",
            "WARNING:matplotlib.image:Clipping input data to the valid range for imshow with RGB data ([0..1] for floats or [0..255] for integers).\n",
            "WARNING:matplotlib.image:Clipping input data to the valid range for imshow with RGB data ([0..1] for floats or [0..255] for integers).\n",
            "WARNING:matplotlib.image:Clipping input data to the valid range for imshow with RGB data ([0..1] for floats or [0..255] for integers).\n",
            "WARNING:matplotlib.image:Clipping input data to the valid range for imshow with RGB data ([0..1] for floats or [0..255] for integers).\n",
            "WARNING:matplotlib.image:Clipping input data to the valid range for imshow with RGB data ([0..1] for floats or [0..255] for integers).\n",
            "WARNING:matplotlib.image:Clipping input data to the valid range for imshow with RGB data ([0..1] for floats or [0..255] for integers).\n",
            "WARNING:matplotlib.image:Clipping input data to the valid range for imshow with RGB data ([0..1] for floats or [0..255] for integers).\n",
            "WARNING:matplotlib.image:Clipping input data to the valid range for imshow with RGB data ([0..1] for floats or [0..255] for integers).\n"
          ]
        },
        {
          "output_type": "display_data",
          "data": {
            "text/plain": [
              "<Figure size 1000x500 with 10 Axes>"
            ],
            "image/png": "[encoded data removed]"
          },
          "metadata": {}
        }
      ],
      "source": [
        "%matplotlib inline\n",
        "import matplotlib.pyplot as plt\n",
        "import numpy as np\n",
        "\n",
        "show_images(train_loader)"
      ]
    },
    {
      "cell_type": "markdown",
      "metadata": {
        "id": "drokW8wWODKq"
      },
      "source": [
        "# Train and Test of our model"
      ]
    },
    {
      "cell_type": "code",
      "execution_count": 5,
      "metadata": {
        "colab": {
          "base_uri": "https://localhost:8080/"
        },
        "id": "xMCFxeAKOB53",
        "outputId": "21b3e116-4be6-4681-f483-0ee003463c2a"
      },
      "outputs": [
        {
          "output_type": "stream",
          "name": "stdout",
          "text": [
            "EPOCH: 1\n"
          ]
        },
        {
          "output_type": "stream",
          "name": "stderr",
          "text": [
            "Loss=1.6712898015975952 Batch_id=195 Accuracy=31.78: 100%|██████████| 196/196 [00:22<00:00,  8.90it/s]\n"
          ]
        },
        {
          "output_type": "stream",
          "name": "stdout",
          "text": [
            "\n",
            "Test set: Average loss: 1.5540, Accuracy: 4379/10000 (43.79%)\n",
            "\n",
            "EPOCH: 2\n"
          ]
        },
        {
          "output_type": "stream",
          "name": "stderr",
          "text": [
            "Loss=1.3261984586715698 Batch_id=195 Accuracy=45.35: 100%|██████████| 196/196 [00:21<00:00,  9.09it/s]\n"
          ]
        },
        {
          "output_type": "stream",
          "name": "stdout",
          "text": [
            "\n",
            "Test set: Average loss: 1.3526, Accuracy: 5272/10000 (52.72%)\n",
            "\n",
            "EPOCH: 3\n"
          ]
        },
        {
          "output_type": "stream",
          "name": "stderr",
          "text": [
            "Loss=1.447079062461853 Batch_id=195 Accuracy=51.82: 100%|██████████| 196/196 [00:21<00:00,  9.05it/s]\n"
          ]
        },
        {
          "output_type": "stream",
          "name": "stdout",
          "text": [
            "\n",
            "Test set: Average loss: 1.2006, Accuracy: 5729/10000 (57.29%)\n",
            "\n",
            "EPOCH: 4\n"
          ]
        },
        {
          "output_type": "stream",
          "name": "stderr",
          "text": [
            "Loss=1.365051507949829 Batch_id=195 Accuracy=55.95: 100%|██████████| 196/196 [00:21<00:00,  9.15it/s]\n"
          ]
        },
        {
          "output_type": "stream",
          "name": "stdout",
          "text": [
            "\n",
            "Test set: Average loss: 1.0489, Accuracy: 6369/10000 (63.69%)\n",
            "\n",
            "EPOCH: 5\n"
          ]
        },
        {
          "output_type": "stream",
          "name": "stderr",
          "text": [
            "Loss=1.2375251054763794 Batch_id=195 Accuracy=59.68: 100%|██████████| 196/196 [00:21<00:00,  8.98it/s]\n"
          ]
        },
        {
          "output_type": "stream",
          "name": "stdout",
          "text": [
            "\n",
            "Test set: Average loss: 0.9919, Accuracy: 6509/10000 (65.09%)\n",
            "\n",
            "EPOCH: 6\n"
          ]
        },
        {
          "output_type": "stream",
          "name": "stderr",
          "text": [
            "Loss=1.0001296997070312 Batch_id=195 Accuracy=62.76: 100%|██████████| 196/196 [00:21<00:00,  8.96it/s]\n"
          ]
        },
        {
          "output_type": "stream",
          "name": "stdout",
          "text": [
            "\n",
            "Test set: Average loss: 0.9202, Accuracy: 6798/10000 (67.98%)\n",
            "\n",
            "EPOCH: 7\n"
          ]
        },
        {
          "output_type": "stream",
          "name": "stderr",
          "text": [
            "Loss=0.8813742399215698 Batch_id=195 Accuracy=64.99: 100%|██████████| 196/196 [00:21<00:00,  9.02it/s]\n"
          ]
        },
        {
          "output_type": "stream",
          "name": "stdout",
          "text": [
            "\n",
            "Test set: Average loss: 0.7984, Accuracy: 7191/10000 (71.91%)\n",
            "\n",
            "EPOCH: 8\n"
          ]
        },
        {
          "output_type": "stream",
          "name": "stderr",
          "text": [
            "Loss=0.8732159733772278 Batch_id=195 Accuracy=66.46: 100%|██████████| 196/196 [00:21<00:00,  9.03it/s]\n"
          ]
        },
        {
          "output_type": "stream",
          "name": "stdout",
          "text": [
            "\n",
            "Test set: Average loss: 0.7457, Accuracy: 7407/10000 (74.07%)\n",
            "\n",
            "EPOCH: 9\n"
          ]
        },
        {
          "output_type": "stream",
          "name": "stderr",
          "text": [
            "Loss=1.0364305973052979 Batch_id=195 Accuracy=68.52: 100%|██████████| 196/196 [00:22<00:00,  8.89it/s]\n"
          ]
        },
        {
          "output_type": "stream",
          "name": "stdout",
          "text": [
            "\n",
            "Test set: Average loss: 0.7631, Accuracy: 7329/10000 (73.29%)\n",
            "\n",
            "EPOCH: 10\n"
          ]
        },
        {
          "output_type": "stream",
          "name": "stderr",
          "text": [
            "Loss=1.0014054775238037 Batch_id=195 Accuracy=69.66: 100%|██████████| 196/196 [00:21<00:00,  8.93it/s]\n"
          ]
        },
        {
          "output_type": "stream",
          "name": "stdout",
          "text": [
            "\n",
            "Test set: Average loss: 0.7595, Accuracy: 7417/10000 (74.17%)\n",
            "\n",
            "EPOCH: 11\n"
          ]
        },
        {
          "output_type": "stream",
          "name": "stderr",
          "text": [
            "Loss=0.7311232686042786 Batch_id=195 Accuracy=70.81: 100%|██████████| 196/196 [00:21<00:00,  8.96it/s]\n"
          ]
        },
        {
          "output_type": "stream",
          "name": "stdout",
          "text": [
            "\n",
            "Test set: Average loss: 0.6637, Accuracy: 7695/10000 (76.95%)\n",
            "\n",
            "EPOCH: 12\n"
          ]
        },
        {
          "output_type": "stream",
          "name": "stderr",
          "text": [
            "Loss=0.7307895421981812 Batch_id=195 Accuracy=71.57: 100%|██████████| 196/196 [00:22<00:00,  8.86it/s]\n"
          ]
        },
        {
          "output_type": "stream",
          "name": "stdout",
          "text": [
            "\n",
            "Test set: Average loss: 0.6332, Accuracy: 7888/10000 (78.88%)\n",
            "\n",
            "EPOCH: 13\n"
          ]
        },
        {
          "output_type": "stream",
          "name": "stderr",
          "text": [
            "Loss=0.7737460136413574 Batch_id=195 Accuracy=73.09: 100%|██████████| 196/196 [00:22<00:00,  8.88it/s]\n"
          ]
        },
        {
          "output_type": "stream",
          "name": "stdout",
          "text": [
            "\n",
            "Test set: Average loss: 0.6294, Accuracy: 7796/10000 (77.96%)\n",
            "\n",
            "EPOCH: 14\n"
          ]
        },
        {
          "output_type": "stream",
          "name": "stderr",
          "text": [
            "Loss=0.8368628621101379 Batch_id=195 Accuracy=73.46: 100%|██████████| 196/196 [00:22<00:00,  8.88it/s]\n"
          ]
        },
        {
          "output_type": "stream",
          "name": "stdout",
          "text": [
            "\n",
            "Test set: Average loss: 0.5988, Accuracy: 7926/10000 (79.26%)\n",
            "\n",
            "EPOCH: 15\n"
          ]
        },
        {
          "output_type": "stream",
          "name": "stderr",
          "text": [
            "Loss=0.7724828720092773 Batch_id=195 Accuracy=74.41: 100%|██████████| 196/196 [00:21<00:00,  8.94it/s]\n"
          ]
        },
        {
          "output_type": "stream",
          "name": "stdout",
          "text": [
            "\n",
            "Test set: Average loss: 0.6012, Accuracy: 7973/10000 (79.73%)\n",
            "\n",
            "EPOCH: 16\n"
          ]
        },
        {
          "output_type": "stream",
          "name": "stderr",
          "text": [
            "Loss=0.6681076884269714 Batch_id=195 Accuracy=75.14: 100%|██████████| 196/196 [00:22<00:00,  8.79it/s]\n"
          ]
        },
        {
          "output_type": "stream",
          "name": "stdout",
          "text": [
            "\n",
            "Test set: Average loss: 0.5868, Accuracy: 7992/10000 (79.92%)\n",
            "\n",
            "EPOCH: 17\n"
          ]
        },
        {
          "output_type": "stream",
          "name": "stderr",
          "text": [
            "Loss=0.7175850868225098 Batch_id=195 Accuracy=75.57: 100%|██████████| 196/196 [00:22<00:00,  8.82it/s]\n"
          ]
        },
        {
          "output_type": "stream",
          "name": "stdout",
          "text": [
            "\n",
            "Test set: Average loss: 0.5482, Accuracy: 8121/10000 (81.21%)\n",
            "\n",
            "EPOCH: 18\n"
          ]
        },
        {
          "output_type": "stream",
          "name": "stderr",
          "text": [
            "Loss=0.5974436402320862 Batch_id=195 Accuracy=76.30: 100%|██████████| 196/196 [00:21<00:00,  8.94it/s]\n"
          ]
        },
        {
          "output_type": "stream",
          "name": "stdout",
          "text": [
            "\n",
            "Test set: Average loss: 0.5211, Accuracy: 8227/10000 (82.27%)\n",
            "\n",
            "EPOCH: 19\n"
          ]
        },
        {
          "output_type": "stream",
          "name": "stderr",
          "text": [
            "Loss=0.8318464159965515 Batch_id=195 Accuracy=76.93: 100%|██████████| 196/196 [00:22<00:00,  8.77it/s]\n"
          ]
        },
        {
          "output_type": "stream",
          "name": "stdout",
          "text": [
            "\n",
            "Test set: Average loss: 0.5116, Accuracy: 8272/10000 (82.72%)\n",
            "\n",
            "EPOCH: 20\n"
          ]
        },
        {
          "output_type": "stream",
          "name": "stderr",
          "text": [
            "Loss=0.6842214465141296 Batch_id=195 Accuracy=77.22: 100%|██████████| 196/196 [00:22<00:00,  8.85it/s]\n"
          ]
        },
        {
          "output_type": "stream",
          "name": "stdout",
          "text": [
            "\n",
            "Test set: Average loss: 0.4987, Accuracy: 8300/10000 (83.00%)\n",
            "\n",
            "EPOCH: 21\n"
          ]
        },
        {
          "output_type": "stream",
          "name": "stderr",
          "text": [
            "Loss=0.6259266138076782 Batch_id=195 Accuracy=77.87: 100%|██████████| 196/196 [00:22<00:00,  8.87it/s]\n"
          ]
        },
        {
          "output_type": "stream",
          "name": "stdout",
          "text": [
            "\n",
            "Test set: Average loss: 0.4846, Accuracy: 8352/10000 (83.52%)\n",
            "\n",
            "EPOCH: 22\n"
          ]
        },
        {
          "output_type": "stream",
          "name": "stderr",
          "text": [
            "Loss=0.742732048034668 Batch_id=195 Accuracy=78.70: 100%|██████████| 196/196 [00:21<00:00,  8.93it/s]\n"
          ]
        },
        {
          "output_type": "stream",
          "name": "stdout",
          "text": [
            "\n",
            "Test set: Average loss: 0.4655, Accuracy: 8414/10000 (84.14%)\n",
            "\n",
            "EPOCH: 23\n"
          ]
        },
        {
          "output_type": "stream",
          "name": "stderr",
          "text": [
            "Loss=0.4389391541481018 Batch_id=195 Accuracy=78.98: 100%|██████████| 196/196 [00:22<00:00,  8.79it/s]\n"
          ]
        },
        {
          "output_type": "stream",
          "name": "stdout",
          "text": [
            "\n",
            "Test set: Average loss: 0.4654, Accuracy: 8451/10000 (84.51%)\n",
            "\n",
            "EPOCH: 24\n"
          ]
        },
        {
          "output_type": "stream",
          "name": "stderr",
          "text": [
            "Loss=0.6571553945541382 Batch_id=195 Accuracy=79.64: 100%|██████████| 196/196 [00:22<00:00,  8.84it/s]\n"
          ]
        },
        {
          "output_type": "stream",
          "name": "stdout",
          "text": [
            "\n",
            "Test set: Average loss: 0.4441, Accuracy: 8551/10000 (85.51%)\n",
            "\n",
            "EPOCH: 25\n"
          ]
        },
        {
          "output_type": "stream",
          "name": "stderr",
          "text": [
            "Loss=0.5596280694007874 Batch_id=195 Accuracy=80.17: 100%|██████████| 196/196 [00:22<00:00,  8.88it/s]\n"
          ]
        },
        {
          "output_type": "stream",
          "name": "stdout",
          "text": [
            "\n",
            "Test set: Average loss: 0.4393, Accuracy: 8502/10000 (85.02%)\n",
            "\n",
            "EPOCH: 26\n"
          ]
        },
        {
          "output_type": "stream",
          "name": "stderr",
          "text": [
            "Loss=0.7417784929275513 Batch_id=195 Accuracy=80.79: 100%|██████████| 196/196 [00:21<00:00,  8.97it/s]\n"
          ]
        },
        {
          "output_type": "stream",
          "name": "stdout",
          "text": [
            "\n",
            "Test set: Average loss: 0.4221, Accuracy: 8565/10000 (85.65%)\n",
            "\n",
            "EPOCH: 27\n"
          ]
        },
        {
          "output_type": "stream",
          "name": "stderr",
          "text": [
            "Loss=0.25833478569984436 Batch_id=195 Accuracy=81.60: 100%|██████████| 196/196 [00:22<00:00,  8.77it/s]\n"
          ]
        },
        {
          "output_type": "stream",
          "name": "stdout",
          "text": [
            "\n",
            "Test set: Average loss: 0.4161, Accuracy: 8582/10000 (85.82%)\n",
            "\n",
            "EPOCH: 28\n"
          ]
        },
        {
          "output_type": "stream",
          "name": "stderr",
          "text": [
            "Loss=0.5617063045501709 Batch_id=195 Accuracy=82.18: 100%|██████████| 196/196 [00:22<00:00,  8.81it/s]\n"
          ]
        },
        {
          "output_type": "stream",
          "name": "stdout",
          "text": [
            "\n",
            "Test set: Average loss: 0.4110, Accuracy: 8613/10000 (86.13%)\n",
            "\n",
            "EPOCH: 29\n"
          ]
        },
        {
          "output_type": "stream",
          "name": "stderr",
          "text": [
            "Loss=0.7054406404495239 Batch_id=195 Accuracy=82.26: 100%|██████████| 196/196 [00:22<00:00,  8.88it/s]\n"
          ]
        },
        {
          "output_type": "stream",
          "name": "stdout",
          "text": [
            "\n",
            "Test set: Average loss: 0.4070, Accuracy: 8598/10000 (85.98%)\n",
            "\n",
            "EPOCH: 30\n"
          ]
        },
        {
          "output_type": "stream",
          "name": "stderr",
          "text": [
            "Loss=0.45076149702072144 Batch_id=195 Accuracy=82.03: 100%|██████████| 196/196 [00:21<00:00,  8.92it/s]\n"
          ]
        },
        {
          "output_type": "stream",
          "name": "stdout",
          "text": [
            "\n",
            "Test set: Average loss: 0.4078, Accuracy: 8607/10000 (86.07%)\n",
            "\n"
          ]
        }
      ],
      "source": [
        "EPOCHS = 30\n",
        "lrs=[]\n",
        "optimizer = optim.SGD(model.parameters(), lr=0.04, momentum=0.9)\n",
        "scheduler = optim.lr_scheduler.OneCycleLR(optimizer, max_lr=0.04, epochs=EPOCHS, steps_per_epoch=len(train_loader))\n",
        "for epoch in range(EPOCHS):\n",
        "    print(\"EPOCH:\", epoch+1)\n",
        "    train(model, device, train_loader, optimizer, scheduler, epoch)\n",
        "    test(model, device, test_loader)"
      ]
    },
    {
      "cell_type": "code",
      "execution_count": 6,
      "metadata": {
        "id": "z8fI5nUvOBkn"
      },
      "outputs": [],
      "source": [
        "train_losses1 = [t.cpu().item() for t in train_losses]"
      ]
    },
    {
      "cell_type": "code",
      "execution_count": 7,
      "metadata": {
        "colab": {
          "base_uri": "https://localhost:8080/",
          "height": 165
        },
        "id": "87RaqGSEOWDe",
        "outputId": "b10bb6e7-7d91-4298-e152-c6ce36bba821"
      },
      "outputs": [
        {
          "output_type": "error",
          "ename": "NameError",
          "evalue": "ignored",
          "traceback": [
            "\u001b[0;31m---------------------------------------------------------------------------\u001b[0m",
            "\u001b[0;31mNameError\u001b[0m                                 Traceback (most recent call last)",
            "\u001b[0;32m<ipython-input-7-d304ca0f3692>\u001b[0m in \u001b[0;36m<cell line: 1>\u001b[0;34m()\u001b[0m\n\u001b[0;32m----> 1\u001b[0;31m \u001b[0mprint_graph\u001b[0m\u001b[0;34m(\u001b[0m\u001b[0mtrain_losses1\u001b[0m\u001b[0;34m,\u001b[0m\u001b[0mtrain_acc\u001b[0m\u001b[0;34m,\u001b[0m \u001b[0mtest_losses\u001b[0m\u001b[0;34m,\u001b[0m\u001b[0mtest_acc\u001b[0m\u001b[0;34m)\u001b[0m\u001b[0;34m\u001b[0m\u001b[0;34m\u001b[0m\u001b[0m\n\u001b[0m",
            "\u001b[0;31mNameError\u001b[0m: name 'print_graph' is not defined"
          ]
        }
      ],
      "source": [
        "print_graph(train_losses1,train_acc, test_losses,test_acc)"
      ]
    },
    {
      "cell_type": "code",
      "execution_count": null,
      "metadata": {
        "id": "odozjbIvY12p"
      },
      "outputs": [],
      "source": [
        "wrong_prediction = []\n",
        "model.eval()\n",
        "for images, labels in test_loader:\n",
        "    images, labels = images.to(device), labels.to(device)\n",
        "    output = model(images)\n",
        "    pred = output.argmax(dim=1, keepdim=True)  # get the index of the max log-probability\n",
        "    match = pred.eq(labels.view_as(pred)).to('cpu').numpy()\n",
        "    for j, i in enumerate(match):\n",
        "        if(i == False):\n",
        "            wrong_prediction.append((images[j], pred[j].item(), labels[j].item()))"
      ]
    },
    {
      "cell_type": "code",
      "execution_count": null,
      "metadata": {
        "colab": {
          "base_uri": "https://localhost:8080/",
          "height": 606
        },
        "id": "O2AE5IY7YyjC",
        "outputId": "fd803dbd-415c-498b-9566-d90f25a2809b"
      },
      "outputs": [
        {
          "name": "stderr",
          "output_type": "stream",
          "text": [
            "Clipping input data to the valid range for imshow with RGB data ([0..1] for floats or [0..255] for integers).\n",
            "Clipping input data to the valid range for imshow with RGB data ([0..1] for floats or [0..255] for integers).\n",
            "Clipping input data to the valid range for imshow with RGB data ([0..1] for floats or [0..255] for integers).\n",
            "Clipping input data to the valid range for imshow with RGB data ([0..1] for floats or [0..255] for integers).\n",
            "Clipping input data to the valid range for imshow with RGB data ([0..1] for floats or [0..255] for integers).\n",
            "Clipping input data to the valid range for imshow with RGB data ([0..1] for floats or [0..255] for integers).\n",
            "Clipping input data to the valid range for imshow with RGB data ([0..1] for floats or [0..255] for integers).\n",
            "Clipping input data to the valid range for imshow with RGB data ([0..1] for floats or [0..255] for integers).\n",
            "Clipping input data to the valid range for imshow with RGB data ([0..1] for floats or [0..255] for integers).\n",
            "Clipping input data to the valid range for imshow with RGB data ([0..1] for floats or [0..255] for integers).\n"
          ]
        },
        {
          "data": {
            "image/png": "[encoded data removed]",
            "text/plain": [
              "<Figure size 1000x500 with 10 Axes>"
            ]
          },
          "metadata": {},
          "output_type": "display_data"
        }
      ],
      "source": [
        "display_incorrect_images(wrong_prediction, n=10 )"
      ]
    },
    {
      "cell_type": "markdown",
      "metadata": {
        "id": "KyAgvQNsoTAf"
      },
      "source": [
        "# #"
      ]
    }
  ],
  "metadata": {
    "accelerator": "GPU",
    "colab": {
      "gpuType": "T4",
      "provenance": []
    },
    "kernelspec": {
      "display_name": "Python 3",
      "name": "python3"
    },
    "language_info": {
      "codemirror_mode": {
        "name": "ipython",
        "version": 3
      },
      "file_extension": ".py",
      "mimetype": "text/x-python",
      "name": "python",
      "nbconvert_exporter": "python",
      "pygments_lexer": "ipython3",
      "version": "3.8.13"
    }
  },
  "nbformat": 4,
  "nbformat_minor": 0
}